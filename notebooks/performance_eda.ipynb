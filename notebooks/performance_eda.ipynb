{
 "cells": [
  {
   "cell_type": "markdown",
   "metadata": {},
   "source": [
    "# 2023 vs. 2024: Exploratory Data Analysis & Comparative performance"
   ]
  },
  {
   "cell_type": "markdown",
   "metadata": {},
   "source": [
    "- Análise mercadologica das corridas\n",
    "- Aumento do hype\n",
    "- Maior participação de jovens\n",
    "- Diminuição da performance\n",
    "- Estudo das maiores reincidências (agrupamentos e tals...)\n",
    "- Estudo dos avanços e retrocessos (as pessoas geralmente melhoram ou pioram? Qual o máximo que dá pra melhorar em um ano?)\n",
    "- Tentar fazer alguma previsão"
   ]
  },
  {
   "cell_type": "markdown",
   "metadata": {},
   "source": [
    "#### Hipóteses\n",
    "- Corredores reincidentes são melhores!\n",
    "- Corredores mais velhos são melhores!\n",
    "- Existe um grupo específico com maior chance de reincidência!"
   ]
  },
  {
   "cell_type": "markdown",
   "metadata": {},
   "source": [
    "## 0. Imports"
   ]
  },
  {
   "cell_type": "code",
   "execution_count": 18,
   "metadata": {},
   "outputs": [],
   "source": [
    "import pandas as pd\n",
    "import numpy as np\n",
    "import os\n",
    "import time\n",
    "import matplotlib.pyplot as plt"
   ]
  },
  {
   "cell_type": "markdown",
   "metadata": {},
   "source": [
    "## 1. Data extraction"
   ]
  },
  {
   "cell_type": "code",
   "execution_count": 19,
   "metadata": {},
   "outputs": [],
   "source": [
    "dir_path = r'..\\data\\treated'\n",
    "files = os.listdir(dir_path)\n",
    "dfs = {}\n",
    "\n",
    "for _file in files:\n",
    "    file_path = os.path.join(dir_path, _file)\n",
    "    df = pd.read_parquet(file_path)\n",
    "    df['year'] = int(_file.replace('.parquet', '').replace('results_', ''))\n",
    "    dfs[_file.replace('.parquet', '')] = df\n",
    "\n",
    "df = pd.concat([dfs['results_2024'], dfs['results_2023']], ignore_index=True)\n"
   ]
  },
  {
   "cell_type": "code",
   "execution_count": 20,
   "metadata": {},
   "outputs": [
    {
     "data": {
      "text/plain": [
       "counter\n",
       "1    15036\n",
       "2     2300\n",
       "3       20\n",
       "4        3\n",
       "5        1\n",
       "7        1\n",
       "dtype: int64"
      ]
     },
     "execution_count": 20,
     "metadata": {},
     "output_type": "execute_result"
    }
   ],
   "source": [
    "counter = pd.DataFrame(df.groupby('athlete').size().sort_values(ascending=False)).reset_index()\n",
    "counter.columns=['athlete', 'counter']\n",
    "counter.groupby('counter').size()"
   ]
  },
  {
   "cell_type": "code",
   "execution_count": 21,
   "metadata": {},
   "outputs": [
    {
     "data": {
      "text/html": [
       "<div>\n",
       "<style scoped>\n",
       "    .dataframe tbody tr th:only-of-type {\n",
       "        vertical-align: middle;\n",
       "    }\n",
       "\n",
       "    .dataframe tbody tr th {\n",
       "        vertical-align: top;\n",
       "    }\n",
       "\n",
       "    .dataframe thead th {\n",
       "        text-align: right;\n",
       "    }\n",
       "</style>\n",
       "<table border=\"1\" class=\"dataframe\">\n",
       "  <thead>\n",
       "    <tr style=\"text-align: right;\">\n",
       "      <th></th>\n",
       "      <th>athlete</th>\n",
       "      <th>counter</th>\n",
       "    </tr>\n",
       "  </thead>\n",
       "  <tbody>\n",
       "    <tr>\n",
       "      <th>1981</th>\n",
       "      <td>EDMAR CAMILO BENTO</td>\n",
       "      <td>2</td>\n",
       "    </tr>\n",
       "    <tr>\n",
       "      <th>1977</th>\n",
       "      <td>EDMUNDO REINALDO DE SOUZA</td>\n",
       "      <td>2</td>\n",
       "    </tr>\n",
       "    <tr>\n",
       "      <th>432</th>\n",
       "      <td>ALEXANDRE GONZAGA DE SOUZA\\nPEIXOTO</td>\n",
       "      <td>2</td>\n",
       "    </tr>\n",
       "    <tr>\n",
       "      <th>1963</th>\n",
       "      <td>EDUARDA GONZAGA SILVA</td>\n",
       "      <td>2</td>\n",
       "    </tr>\n",
       "    <tr>\n",
       "      <th>841</th>\n",
       "      <td>MARIA CLARA TEODORO PIRES</td>\n",
       "      <td>2</td>\n",
       "    </tr>\n",
       "    <tr>\n",
       "      <th>964</th>\n",
       "      <td>MANOEL DE MOURA BARROS JUNIOR</td>\n",
       "      <td>2</td>\n",
       "    </tr>\n",
       "    <tr>\n",
       "      <th>994</th>\n",
       "      <td>LUIZ FERNANDO REZENDE CALDEIRA</td>\n",
       "      <td>2</td>\n",
       "    </tr>\n",
       "    <tr>\n",
       "      <th>1016</th>\n",
       "      <td>LUCIANO DOS ANJOS NONATO</td>\n",
       "      <td>2</td>\n",
       "    </tr>\n",
       "    <tr>\n",
       "      <th>1024</th>\n",
       "      <td>LUCIANA LUIZA DOS SANTOS</td>\n",
       "      <td>2</td>\n",
       "    </tr>\n",
       "    <tr>\n",
       "      <th>1918</th>\n",
       "      <td>ELISA BADARO SILVA</td>\n",
       "      <td>2</td>\n",
       "    </tr>\n",
       "  </tbody>\n",
       "</table>\n",
       "</div>"
      ],
      "text/plain": [
       "                                  athlete  counter\n",
       "1981                   EDMAR CAMILO BENTO        2\n",
       "1977            EDMUNDO REINALDO DE SOUZA        2\n",
       "432   ALEXANDRE GONZAGA DE SOUZA\\nPEIXOTO        2\n",
       "1963                EDUARDA GONZAGA SILVA        2\n",
       "841             MARIA CLARA TEODORO PIRES        2\n",
       "964         MANOEL DE MOURA BARROS JUNIOR        2\n",
       "994        LUIZ FERNANDO REZENDE CALDEIRA        2\n",
       "1016             LUCIANO DOS ANJOS NONATO        2\n",
       "1024             LUCIANA LUIZA DOS SANTOS        2\n",
       "1918                   ELISA BADARO SILVA        2"
      ]
     },
     "execution_count": 21,
     "metadata": {},
     "output_type": "execute_result"
    }
   ],
   "source": [
    "counter.loc[counter['counter'] == 2].sample(10)"
   ]
  },
  {
   "cell_type": "markdown",
   "metadata": {},
   "source": [
    "## 2. Check data quality"
   ]
  },
  {
   "cell_type": "code",
   "execution_count": 22,
   "metadata": {},
   "outputs": [
    {
     "name": "stdout",
     "output_type": "stream",
     "text": [
      "<class 'pandas.core.frame.DataFrame'>\n",
      "RangeIndex: 19720 entries, 0 to 19719\n",
      "Data columns (total 20 columns):\n",
      " #   Column        Non-Null Count  Dtype  \n",
      "---  ------        --------------  -----  \n",
      " 0   pos           19720 non-null  int64  \n",
      " 1   num           19720 non-null  int64  \n",
      " 2   athlete       19720 non-null  object \n",
      " 3   gender        19720 non-null  object \n",
      " 4   age           19720 non-null  int64  \n",
      " 5   group         19720 non-null  object \n",
      " 6   ag            19700 non-null  float64\n",
      " 7   c             19720 non-null  object \n",
      " 8   team          19720 non-null  object \n",
      " 9   time          19720 non-null  object \n",
      " 10  distance      19720 non-null  object \n",
      " 11  part_time_h   19720 non-null  int64  \n",
      " 12  part_time_m   19720 non-null  int64  \n",
      " 13  part_time_s   19720 non-null  int64  \n",
      " 14  total_time_s  19720 non-null  int64  \n",
      " 15  total_time_m  19720 non-null  float64\n",
      " 16  total_time_h  19720 non-null  float64\n",
      " 17  dist_num      19720 non-null  int64  \n",
      " 18  pace          19720 non-null  object \n",
      " 19  year          19720 non-null  int64  \n",
      "dtypes: float64(3), int64(9), object(8)\n",
      "memory usage: 3.0+ MB\n"
     ]
    }
   ],
   "source": [
    "df.info()"
   ]
  },
  {
   "cell_type": "code",
   "execution_count": 23,
   "metadata": {},
   "outputs": [
    {
     "data": {
      "text/html": [
       "<div>\n",
       "<style scoped>\n",
       "    .dataframe tbody tr th:only-of-type {\n",
       "        vertical-align: middle;\n",
       "    }\n",
       "\n",
       "    .dataframe tbody tr th {\n",
       "        vertical-align: top;\n",
       "    }\n",
       "\n",
       "    .dataframe thead th {\n",
       "        text-align: right;\n",
       "    }\n",
       "</style>\n",
       "<table border=\"1\" class=\"dataframe\">\n",
       "  <thead>\n",
       "    <tr style=\"text-align: right;\">\n",
       "      <th></th>\n",
       "      <th>pos</th>\n",
       "      <th>num</th>\n",
       "      <th>age</th>\n",
       "      <th>ag</th>\n",
       "      <th>part_time_h</th>\n",
       "      <th>part_time_m</th>\n",
       "      <th>part_time_s</th>\n",
       "      <th>total_time_s</th>\n",
       "      <th>total_time_m</th>\n",
       "      <th>total_time_h</th>\n",
       "      <th>dist_num</th>\n",
       "      <th>year</th>\n",
       "    </tr>\n",
       "  </thead>\n",
       "  <tbody>\n",
       "    <tr>\n",
       "      <th>count</th>\n",
       "      <td>19720.000000</td>\n",
       "      <td>19720.000000</td>\n",
       "      <td>19720.000000</td>\n",
       "      <td>19700.000000</td>\n",
       "      <td>19720.000000</td>\n",
       "      <td>19720.000000</td>\n",
       "      <td>19720.000000</td>\n",
       "      <td>19720.000000</td>\n",
       "      <td>19720.000000</td>\n",
       "      <td>19720.000000</td>\n",
       "      <td>19720.000000</td>\n",
       "      <td>19720.000000</td>\n",
       "    </tr>\n",
       "    <tr>\n",
       "      <th>mean</th>\n",
       "      <td>1762.182809</td>\n",
       "      <td>6312.573529</td>\n",
       "      <td>38.610041</td>\n",
       "      <td>195.853350</td>\n",
       "      <td>0.189300</td>\n",
       "      <td>35.433215</td>\n",
       "      <td>29.444270</td>\n",
       "      <td>2836.917901</td>\n",
       "      <td>47.281965</td>\n",
       "      <td>0.788033</td>\n",
       "      <td>6.005071</td>\n",
       "      <td>2023.575355</td>\n",
       "    </tr>\n",
       "    <tr>\n",
       "      <th>std</th>\n",
       "      <td>1311.150288</td>\n",
       "      <td>3976.380134</td>\n",
       "      <td>13.011585</td>\n",
       "      <td>174.743207</td>\n",
       "      <td>0.439697</td>\n",
       "      <td>14.237690</td>\n",
       "      <td>17.299366</td>\n",
       "      <td>1199.005143</td>\n",
       "      <td>19.983419</td>\n",
       "      <td>0.333057</td>\n",
       "      <td>2.003844</td>\n",
       "      <td>0.494302</td>\n",
       "    </tr>\n",
       "    <tr>\n",
       "      <th>min</th>\n",
       "      <td>1.000000</td>\n",
       "      <td>1.000000</td>\n",
       "      <td>0.000000</td>\n",
       "      <td>1.000000</td>\n",
       "      <td>0.000000</td>\n",
       "      <td>0.000000</td>\n",
       "      <td>0.000000</td>\n",
       "      <td>936.000000</td>\n",
       "      <td>15.600000</td>\n",
       "      <td>0.260000</td>\n",
       "      <td>5.000000</td>\n",
       "      <td>2023.000000</td>\n",
       "    </tr>\n",
       "    <tr>\n",
       "      <th>25%</th>\n",
       "      <td>627.000000</td>\n",
       "      <td>3052.750000</td>\n",
       "      <td>30.000000</td>\n",
       "      <td>58.000000</td>\n",
       "      <td>0.000000</td>\n",
       "      <td>30.000000</td>\n",
       "      <td>15.000000</td>\n",
       "      <td>2093.000000</td>\n",
       "      <td>34.883333</td>\n",
       "      <td>0.581389</td>\n",
       "      <td>5.000000</td>\n",
       "      <td>2023.000000</td>\n",
       "    </tr>\n",
       "    <tr>\n",
       "      <th>50%</th>\n",
       "      <td>1474.500000</td>\n",
       "      <td>6003.000000</td>\n",
       "      <td>39.000000</td>\n",
       "      <td>142.000000</td>\n",
       "      <td>0.000000</td>\n",
       "      <td>37.000000</td>\n",
       "      <td>29.000000</td>\n",
       "      <td>2522.000000</td>\n",
       "      <td>42.033333</td>\n",
       "      <td>0.700556</td>\n",
       "      <td>5.000000</td>\n",
       "      <td>2024.000000</td>\n",
       "    </tr>\n",
       "    <tr>\n",
       "      <th>75%</th>\n",
       "      <td>2707.000000</td>\n",
       "      <td>9186.500000</td>\n",
       "      <td>47.000000</td>\n",
       "      <td>292.000000</td>\n",
       "      <td>0.000000</td>\n",
       "      <td>45.000000</td>\n",
       "      <td>44.000000</td>\n",
       "      <td>3254.000000</td>\n",
       "      <td>54.233333</td>\n",
       "      <td>0.903889</td>\n",
       "      <td>5.000000</td>\n",
       "      <td>2024.000000</td>\n",
       "    </tr>\n",
       "    <tr>\n",
       "      <th>max</th>\n",
       "      <td>5251.000000</td>\n",
       "      <td>16901.000000</td>\n",
       "      <td>86.000000</td>\n",
       "      <td>826.000000</td>\n",
       "      <td>3.000000</td>\n",
       "      <td>59.000000</td>\n",
       "      <td>59.000000</td>\n",
       "      <td>11929.000000</td>\n",
       "      <td>198.816667</td>\n",
       "      <td>3.313611</td>\n",
       "      <td>10.000000</td>\n",
       "      <td>2024.000000</td>\n",
       "    </tr>\n",
       "  </tbody>\n",
       "</table>\n",
       "</div>"
      ],
      "text/plain": [
       "                pos           num           age            ag   part_time_h  \\\n",
       "count  19720.000000  19720.000000  19720.000000  19700.000000  19720.000000   \n",
       "mean    1762.182809   6312.573529     38.610041    195.853350      0.189300   \n",
       "std     1311.150288   3976.380134     13.011585    174.743207      0.439697   \n",
       "min        1.000000      1.000000      0.000000      1.000000      0.000000   \n",
       "25%      627.000000   3052.750000     30.000000     58.000000      0.000000   \n",
       "50%     1474.500000   6003.000000     39.000000    142.000000      0.000000   \n",
       "75%     2707.000000   9186.500000     47.000000    292.000000      0.000000   \n",
       "max     5251.000000  16901.000000     86.000000    826.000000      3.000000   \n",
       "\n",
       "        part_time_m   part_time_s  total_time_s  total_time_m  total_time_h  \\\n",
       "count  19720.000000  19720.000000  19720.000000  19720.000000  19720.000000   \n",
       "mean      35.433215     29.444270   2836.917901     47.281965      0.788033   \n",
       "std       14.237690     17.299366   1199.005143     19.983419      0.333057   \n",
       "min        0.000000      0.000000    936.000000     15.600000      0.260000   \n",
       "25%       30.000000     15.000000   2093.000000     34.883333      0.581389   \n",
       "50%       37.000000     29.000000   2522.000000     42.033333      0.700556   \n",
       "75%       45.000000     44.000000   3254.000000     54.233333      0.903889   \n",
       "max       59.000000     59.000000  11929.000000    198.816667      3.313611   \n",
       "\n",
       "           dist_num          year  \n",
       "count  19720.000000  19720.000000  \n",
       "mean       6.005071   2023.575355  \n",
       "std        2.003844      0.494302  \n",
       "min        5.000000   2023.000000  \n",
       "25%        5.000000   2023.000000  \n",
       "50%        5.000000   2024.000000  \n",
       "75%        5.000000   2024.000000  \n",
       "max       10.000000   2024.000000  "
      ]
     },
     "execution_count": 23,
     "metadata": {},
     "output_type": "execute_result"
    }
   ],
   "source": [
    "df.describe()"
   ]
  },
  {
   "cell_type": "code",
   "execution_count": 24,
   "metadata": {},
   "outputs": [
    {
     "name": "stdout",
     "output_type": "stream",
     "text": [
      "Gender variations: ['F' 'M']\n",
      "Group variations: ['F0014', 'F1519', 'F2024', 'F2529', 'F3034', 'F3539', 'F4044', 'F4549', 'F5054', 'F5559', 'F6064', 'F6569', 'F7074', 'F7579', 'F8084', 'M0014', 'M1519', 'M2024', 'M2529', 'M3034', 'M3539', 'M4044', 'M4549', 'M5054', 'M5559', 'M6064', 'M6569', 'M7074', 'M7579', 'M8084', 'M8589']\n"
     ]
    }
   ],
   "source": [
    "values = df['gender'].unique()\n",
    "print(f'Gender variations: {values}')\n",
    "\n",
    "values = sorted(df['group'].unique())\n",
    "print(f'Group variations: {values}')"
   ]
  },
  {
   "cell_type": "markdown",
   "metadata": {},
   "source": [
    "## 3. Data comprehention"
   ]
  },
  {
   "cell_type": "markdown",
   "metadata": {},
   "source": [
    "### 3.1. Athletes"
   ]
  },
  {
   "cell_type": "markdown",
   "metadata": {},
   "source": [
    "#### 3.1.1. Total athletes"
   ]
  },
  {
   "cell_type": "code",
   "execution_count": 25,
   "metadata": {},
   "outputs": [
    {
     "name": "stdout",
     "output_type": "stream",
     "text": [
      "Total athletes in 2023: 8374\n",
      "Total athletes in 2024: 11346\n",
      "Vriation of +35.5% athletes between 2023-24 editions\n"
     ]
    }
   ],
   "source": [
    "total_2023 = df.loc[df['year'] == 2023, 'num'].count()\n",
    "total_2024 = df.loc[df['year'] == 2024, 'num'].count()\n",
    "print(f'Total athletes in 2023: {total_2023}\\nTotal athletes in 2024: {total_2024}')\n",
    "\n",
    "variacao = (total_2024 - total_2023) / total_2023\n",
    "sinal = '+' if variacao > 0 else '-'\n",
    "variacao_str = f'{sinal}{variacao:.1%}'\n",
    "print(f'Vriation of {variacao_str} athletes between 2023-24 editions')"
   ]
  },
  {
   "cell_type": "markdown",
   "metadata": {},
   "source": [
    "#### 3.1.2. Total athletes vs. distance"
   ]
  },
  {
   "cell_type": "code",
   "execution_count": 26,
   "metadata": {},
   "outputs": [
    {
     "name": "stdout",
     "output_type": "stream",
     "text": [
      "2023 distance distribuition: 6508 5km vs 1866 10km (77.7% vs 22.3%)\n",
      "2024 distance distribuition: 9248 5km vs 2098 10km (81.5% vs 18.5%)\n"
     ]
    }
   ],
   "source": [
    "total_2023_5 = df.loc[(df['year'] == 2023) & (df['dist_num'] == 5), 'num'].count()\n",
    "total_2023_10 = df.loc[(df['year'] == 2023) & (df['dist_num'] == 10), 'num'].count()\n",
    "total_2023_5_percent = total_2023_5 / (total_2023_5+total_2023_10)\n",
    "total_2023_10_percent = total_2023_10 / (total_2023_5+total_2023_10)\n",
    "\n",
    "total_2024_5 = df.loc[(df['year'] == 2024) & (df['dist_num'] == 5), 'num'].count()\n",
    "total_2024_10 = df.loc[(df['year'] == 2024) & (df['dist_num'] == 10), 'num'].count()\n",
    "total_2024_5_percent = total_2024_5 / (total_2024_5+total_2024_10)\n",
    "total_2024_10_percent = total_2024_10 / (total_2024_5+total_2024_10)\n",
    "\n",
    "print(f'2023 distance distribuition: {total_2023_5} 5km vs {total_2023_10} 10km ({total_2023_5_percent:.1%} vs {total_2023_10_percent:.1%})')\n",
    "print(f'2024 distance distribuition: {total_2024_5} 5km vs {total_2024_10} 10km ({total_2024_5_percent:.1%} vs {total_2024_10_percent:.1%})')"
   ]
  },
  {
   "cell_type": "markdown",
   "metadata": {},
   "source": [
    "#### 3.1.3. Total athletes vs. gender"
   ]
  },
  {
   "cell_type": "code",
   "execution_count": 27,
   "metadata": {},
   "outputs": [
    {
     "name": "stdout",
     "output_type": "stream",
     "text": [
      "2023 gender distribuition: 4253 M vs 4121 F (50.8% vs 49.2%)\n",
      "2024 gender distribuition: 5438 M vs 5908 F (47.9% vs 52.1%)\n"
     ]
    }
   ],
   "source": [
    "total_2023_m = df.loc[(df['year'] == 2023) & (df['gender'] == 'M'), 'num'].count()\n",
    "total_2023_f = df.loc[(df['year'] == 2023) & (df['gender'] == 'F'), 'num'].count()\n",
    "total_2023_m_percent = total_2023_m / (total_2023_m+total_2023_f)\n",
    "total_2023_f_percent = total_2023_f / (total_2023_m+total_2023_f)\n",
    "\n",
    "total_2024_m = df.loc[(df['year'] == 2024) & (df['gender'] == 'M'), 'num'].count()\n",
    "total_2024_f = df.loc[(df['year'] == 2024) & (df['gender'] == 'F'), 'num'].count()\n",
    "total_2024_m_percent = total_2024_m / (total_2024_m+total_2024_f)\n",
    "total_2024_f_percent = total_2024_f / (total_2024_m+total_2024_f)\n",
    "\n",
    "print(f'2023 gender distribuition: {total_2023_m} M vs {total_2023_f} F ({total_2023_m_percent:.1%} vs {total_2023_f_percent:.1%})')\n",
    "print(f'2024 gender distribuition: {total_2024_m} M vs {total_2024_f} F ({total_2024_m_percent:.1%} vs {total_2024_f_percent:.1%})')"
   ]
  },
  {
   "cell_type": "markdown",
   "metadata": {},
   "source": [
    "#### 3.1.4. Total athletes vs. ages"
   ]
  },
  {
   "cell_type": "code",
   "execution_count": 28,
   "metadata": {},
   "outputs": [
    {
     "name": "stderr",
     "output_type": "stream",
     "text": [
      "C:\\Users\\gabriel.oliveira\\AppData\\Local\\Temp\\ipykernel_25908\\1443749921.py:6: FutureWarning: The default value of observed=False is deprecated and will change to observed=True in a future version of pandas. Specify observed=False to silence this warning and retain the current behavior\n",
      "  pivot_ages = pd.pivot_table(df, values='num', index='year', columns='age_group', aggfunc='count')\n"
     ]
    },
    {
     "data": {
      "text/html": [
       "<div>\n",
       "<style scoped>\n",
       "    .dataframe tbody tr th:only-of-type {\n",
       "        vertical-align: middle;\n",
       "    }\n",
       "\n",
       "    .dataframe tbody tr th {\n",
       "        vertical-align: top;\n",
       "    }\n",
       "\n",
       "    .dataframe thead th {\n",
       "        text-align: right;\n",
       "    }\n",
       "</style>\n",
       "<table border=\"1\" class=\"dataframe\">\n",
       "  <thead>\n",
       "    <tr style=\"text-align: right;\">\n",
       "      <th>age_group</th>\n",
       "      <th>1-10</th>\n",
       "      <th>11-20</th>\n",
       "      <th>21-30</th>\n",
       "      <th>31-40</th>\n",
       "      <th>41-50</th>\n",
       "      <th>51-60</th>\n",
       "      <th>61-70</th>\n",
       "      <th>71-80</th>\n",
       "      <th>81-90</th>\n",
       "    </tr>\n",
       "    <tr>\n",
       "      <th>year</th>\n",
       "      <th></th>\n",
       "      <th></th>\n",
       "      <th></th>\n",
       "      <th></th>\n",
       "      <th></th>\n",
       "      <th></th>\n",
       "      <th></th>\n",
       "      <th></th>\n",
       "      <th></th>\n",
       "    </tr>\n",
       "  </thead>\n",
       "  <tbody>\n",
       "    <tr>\n",
       "      <th>2023</th>\n",
       "      <td>51.000000</td>\n",
       "      <td>471.000000</td>\n",
       "      <td>1289.000000</td>\n",
       "      <td>2445.000000</td>\n",
       "      <td>2537.000000</td>\n",
       "      <td>1078.000000</td>\n",
       "      <td>368.000000</td>\n",
       "      <td>62.000000</td>\n",
       "      <td>2.000000</td>\n",
       "    </tr>\n",
       "    <tr>\n",
       "      <th>2024</th>\n",
       "      <td>37.000000</td>\n",
       "      <td>820.000000</td>\n",
       "      <td>2320.000000</td>\n",
       "      <td>3189.000000</td>\n",
       "      <td>2995.000000</td>\n",
       "      <td>1368.000000</td>\n",
       "      <td>424.000000</td>\n",
       "      <td>65.000000</td>\n",
       "      <td>11.000000</td>\n",
       "    </tr>\n",
       "    <tr>\n",
       "      <th>2023_percent</th>\n",
       "      <td>0.006142</td>\n",
       "      <td>0.056726</td>\n",
       "      <td>0.155245</td>\n",
       "      <td>0.294472</td>\n",
       "      <td>0.305552</td>\n",
       "      <td>0.129833</td>\n",
       "      <td>0.044321</td>\n",
       "      <td>0.007467</td>\n",
       "      <td>0.000241</td>\n",
       "    </tr>\n",
       "    <tr>\n",
       "      <th>2024_percent</th>\n",
       "      <td>0.003295</td>\n",
       "      <td>0.073025</td>\n",
       "      <td>0.206608</td>\n",
       "      <td>0.283997</td>\n",
       "      <td>0.266720</td>\n",
       "      <td>0.121827</td>\n",
       "      <td>0.037759</td>\n",
       "      <td>0.005789</td>\n",
       "      <td>0.000980</td>\n",
       "    </tr>\n",
       "  </tbody>\n",
       "</table>\n",
       "</div>"
      ],
      "text/plain": [
       "age_group          1-10       11-20        21-30        31-40        41-50  \\\n",
       "year                                                                         \n",
       "2023          51.000000  471.000000  1289.000000  2445.000000  2537.000000   \n",
       "2024          37.000000  820.000000  2320.000000  3189.000000  2995.000000   \n",
       "2023_percent   0.006142    0.056726     0.155245     0.294472     0.305552   \n",
       "2024_percent   0.003295    0.073025     0.206608     0.283997     0.266720   \n",
       "\n",
       "age_group           51-60       61-70      71-80      81-90  \n",
       "year                                                         \n",
       "2023          1078.000000  368.000000  62.000000   2.000000  \n",
       "2024          1368.000000  424.000000  65.000000  11.000000  \n",
       "2023_percent     0.129833    0.044321   0.007467   0.000241  \n",
       "2024_percent     0.121827    0.037759   0.005789   0.000980  "
      ]
     },
     "execution_count": 28,
     "metadata": {},
     "output_type": "execute_result"
    }
   ],
   "source": [
    "bins = [0, 10, 20, 30, 40, 50, 60, 70, 80, 90]\n",
    "labels = ['1-10', '11-20', '21-30', '31-40', '41-50', '51-60', '61-70', '71-80', '81-90']\n",
    "\n",
    "df['age_group'] = pd.cut(df['age'], bins=bins, labels=labels, right=True)\n",
    "\n",
    "pivot_ages = pd.pivot_table(df, values='num', index='year', columns='age_group', aggfunc='count')\n",
    "pivot_ages_transp = pivot_ages.T\n",
    "\n",
    "pivot_ages_transp['2023_percent'] = pivot_ages_transp[2023] / pivot_ages_transp[2023].sum()\n",
    "pivot_ages_transp['2024_percent'] = pivot_ages_transp[2024] / pivot_ages_transp[2024].sum()\n",
    "\n",
    "pivot_ages = pivot_ages_transp.T\n",
    "pivot_ages\n"
   ]
  },
  {
   "cell_type": "code",
   "execution_count": 29,
   "metadata": {},
   "outputs": [
    {
     "data": {
      "image/png": "[encoded data removed]",
      "text/plain": [
       "<Figure size 1000x600 with 2 Axes>"
      ]
     },
     "metadata": {},
     "output_type": "display_data"
    }
   ],
   "source": [
    "fig, axs = plt.subplots(nrows=2, figsize=(10,6))\n",
    "\n",
    "bar_width = 0.4\n",
    "\n",
    "index = pivot_ages_transp.index\n",
    "xs = np.arange(len(index))\n",
    "percent_2023 = pivot_ages_transp['2023_percent'].values\n",
    "percent_2024 = pivot_ages_transp['2024_percent'].values\n",
    "\n",
    "axs[0].bar(x=xs-bar_width/2, height=percent_2023, width=bar_width)\n",
    "axs[0].bar(x=xs+bar_width/2, height=percent_2024, width=bar_width)\n",
    "\n",
    "total_2023 = pivot_ages_transp[2023].values\n",
    "total_2024 = pivot_ages_transp[2024].values\n",
    "\n",
    "axs[1].plot(total_2023)\n",
    "axs[1].plot(total_2024)\n",
    "\n",
    "for i, x in enumerate(xs):\n",
    "    p_2023 = percent_2023[i]\n",
    "    axs[0].annotate(text=f'{p_2023:.1%}', xy=(x-bar_width, percent_2023[i]+0.005), fontsize=8)\n",
    "\n",
    "    p_2024 = percent_2024[i]\n",
    "    axs[0].annotate(text=f'{p_2024:.1%}', xy=(x, percent_2024[i]+0.005), fontsize=8)\n",
    "\n",
    "    t_2023 = total_2023[i]\n",
    "    axs[1].annotate(text=f'{t_2023}', xy=(x, total_2023[i]-100), fontsize=8)\n",
    "\n",
    "    t_2024 = total_2024[i]\n",
    "    axs[1].annotate(text=f'{t_2024}', xy=(x, total_2024[i]+100), fontsize=8)\n",
    "\n",
    "axs[0].set_xticks(xs)\n",
    "axs[0].set_xticklabels(index)\n",
    "\n",
    "axs[1].set_xticks(xs)\n",
    "axs[1].set_xticklabels(index)\n",
    "\n",
    "plt.show()"
   ]
  },
  {
   "cell_type": "markdown",
   "metadata": {},
   "source": [
    "### 3.2. Gerneral performance - average pace"
   ]
  },
  {
   "cell_type": "markdown",
   "metadata": {},
   "source": [
    "- Qual o pace médio geral 23 vs 24?\n",
    "- Qual o pace médio por categoria 23 vs 24?\n",
    "- Qual o pace médio por age group & categoria 23 vs 24?"
   ]
  },
  {
   "cell_type": "code",
   "execution_count": 30,
   "metadata": {},
   "outputs": [],
   "source": [
    "def get_mean_pace(dataframe, total_time_column:str, dist_column:str, add_groupby_columns:list=None):\n",
    "    \n",
    "    groupby_columns = [dist_column]\n",
    "    groupby_columns.extend(add_groupby_columns)\n",
    "    filtered_dataframe = pd.DataFrame(dataframe.groupby(groupby_columns)[[total_time_column, dist_column]].sum())\n",
    "    filtered_dataframe.columns = ['summed_time', 'summed_dist']\n",
    "    filtered_dataframe = filtered_dataframe.reset_index()\n",
    "    filtered_dataframe['pace_s'] = filtered_dataframe['summed_time'] / filtered_dataframe['summed_dist']\n",
    "    filtered_dataframe['pace_s'] = filtered_dataframe['pace_s'].fillna(0)\n",
    "    filtered_dataframe['pace_time'] = filtered_dataframe['pace_s'].apply(lambda t: time.strftime('%M:%S', time.gmtime(t)))\n",
    "\n",
    "    return filtered_dataframe"
   ]
  },
  {
   "cell_type": "code",
   "execution_count": 31,
   "metadata": {},
   "outputs": [],
   "source": [
    "def get_median_pace(dataframe, total_time_column:str, dist_column:str, add_groupby_columns:list=None):\n",
    "    \n",
    "    groupby_columns = [dist_column]\n",
    "    groupby_columns.extend(add_groupby_columns)\n",
    "    filtered_dataframe = pd.DataFrame(dataframe.groupby(groupby_columns)[[total_time_column, dist_column]].median())\n",
    "    filtered_dataframe.columns = ['median_time', 'median_dist']\n",
    "    filtered_dataframe = filtered_dataframe.reset_index()\n",
    "    filtered_dataframe['pace_s'] = filtered_dataframe['median_time'] / filtered_dataframe['median_dist']\n",
    "    filtered_dataframe['pace_s'] = filtered_dataframe['pace_s'].fillna(0)\n",
    "    filtered_dataframe['pace_time'] = filtered_dataframe['pace_s'].apply(lambda t: time.strftime('%M:%S', time.gmtime(t)))\n",
    "\n",
    "    return filtered_dataframe"
   ]
  },
  {
   "cell_type": "markdown",
   "metadata": {},
   "source": [
    "#### 3.2.1. Avg  Pace: by distance, gender and year"
   ]
  },
  {
   "cell_type": "markdown",
   "metadata": {},
   "source": [
    "## TENTAR BOXPLOT EM DIFERENTES SUBPLOTS. ACHO QUE VAI FICAR MAIS INFORMATIVO\n",
    "## TAMBÉM TENTAR FAZER UMA FUNÇÃO DE PLOT COMUM QUE POSSA AGRUPAR QUAISQUER COLUNAS PASSADAS PELO USUÁRIO.\n",
    "### Essa função 'plot_paces' não ficou muito legal..."
   ]
  },
  {
   "cell_type": "code",
   "execution_count": 32,
   "metadata": {},
   "outputs": [],
   "source": [
    "def plot_paces(df):\n",
    "\n",
    "    df['category'] = df['dist_num'].astype(str).str.cat(df['gender'], sep='-')\n",
    "\n",
    "    years = df['year'].unique()\n",
    "\n",
    "    fig, ax = plt.subplots(figsize=(10,3))\n",
    "\n",
    "    bar_width = 0.4\n",
    "\n",
    "    for i, year in enumerate(years):\n",
    "        mean_pace_df_filtered = df.loc[df['year'] == year]\n",
    "        pace_values_s = mean_pace_df_filtered['pace_s'].values\n",
    "        pace_formatted = mean_pace_df_filtered['pace_time'].values\n",
    "        index = mean_pace_df_filtered['category'].values\n",
    "        xs = np.arange(len(index))\n",
    "\n",
    "        n_years = len(years)\n",
    "        horizontal_offset = (i+1-n_years)*0.4\n",
    "        ax.bar(x=xs+horizontal_offset, height=pace_values_s, width=bar_width, align='edge')\n",
    "\n",
    "        for i, x in enumerate(xs):\n",
    "            ax.annotate(text=pace_formatted[i] ,xy=(x+horizontal_offset+bar_width/4, pace_values_s[i]+5))\n",
    "\n",
    "        ax.set_xticks(xs)\n",
    "        ax.set_xticklabels(index)\n",
    "\n",
    "    plt.show()"
   ]
  },
  {
   "cell_type": "markdown",
   "metadata": {},
   "source": [
    "MEAN PACE (2023 vs 2024)"
   ]
  },
  {
   "cell_type": "code",
   "execution_count": 33,
   "metadata": {},
   "outputs": [
    {
     "data": {
      "image/png": "[encoded data removed]",
      "text/plain": [
       "<Figure size 1000x300 with 1 Axes>"
      ]
     },
     "metadata": {},
     "output_type": "display_data"
    }
   ],
   "source": [
    "mean_pace_df = get_mean_pace(df, 'total_time_s', 'dist_num', ['gender', 'year'])\n",
    "plot_paces(mean_pace_df)"
   ]
  },
  {
   "cell_type": "markdown",
   "metadata": {},
   "source": [
    "MEDIAN PACE (2023 vs 2024)"
   ]
  },
  {
   "cell_type": "code",
   "execution_count": 34,
   "metadata": {},
   "outputs": [
    {
     "data": {
      "image/png": "[encoded data removed]",
      "text/plain": [
       "<Figure size 1000x300 with 1 Axes>"
      ]
     },
     "metadata": {},
     "output_type": "display_data"
    }
   ],
   "source": [
    "mean_pace_df = get_median_pace(df, 'total_time_s', 'dist_num', ['gender', 'year'])\n",
    "plot_paces(mean_pace_df)"
   ]
  },
  {
   "cell_type": "markdown",
   "metadata": {},
   "source": [
    "### 3.3. Personal performance"
   ]
  },
  {
   "cell_type": "markdown",
   "metadata": {},
   "source": [
    "## 4. Hypothesis"
   ]
  }
 ],
 "metadata": {
  "kernelspec": {
   "display_name": "env",
   "language": "python",
   "name": "python3"
  },
  "language_info": {
   "codemirror_mode": {
    "name": "ipython",
    "version": 3
   },
   "file_extension": ".py",
   "mimetype": "text/x-python",
   "name": "python",
   "nbconvert_exporter": "python",
   "pygments_lexer": "ipython3",
   "version": "3.11.9"
  }
 },
 "nbformat": 4,
 "nbformat_minor": 2
}
